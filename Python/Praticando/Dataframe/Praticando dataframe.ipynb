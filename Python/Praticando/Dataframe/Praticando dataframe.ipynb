{
 "cells": [
  {
   "attachments": {},
   "cell_type": "markdown",
   "metadata": {},
   "source": [
    "Dado um DataFrame chamado \"df\" com as colunas \"A\", \"B\" e \"C\", remova todas as linhas em que o valor da coluna \"A\" seja menor que 10 e o valor da coluna \"B\" seja maior que 20."
   ]
  },
  {
   "cell_type": "code",
   "execution_count": 120,
   "metadata": {},
   "outputs": [
    {
     "data": {
      "text/html": [
       "<div>\n",
       "<style scoped>\n",
       "    .dataframe tbody tr th:only-of-type {\n",
       "        vertical-align: middle;\n",
       "    }\n",
       "\n",
       "    .dataframe tbody tr th {\n",
       "        vertical-align: top;\n",
       "    }\n",
       "\n",
       "    .dataframe thead th {\n",
       "        text-align: right;\n",
       "    }\n",
       "</style>\n",
       "<table border=\"1\" class=\"dataframe\">\n",
       "  <thead>\n",
       "    <tr style=\"text-align: right;\">\n",
       "      <th></th>\n",
       "      <th>A</th>\n",
       "      <th>B</th>\n",
       "      <th>C</th>\n",
       "    </tr>\n",
       "  </thead>\n",
       "  <tbody>\n",
       "    <tr>\n",
       "      <th>3</th>\n",
       "      <td>45</td>\n",
       "      <td>7</td>\n",
       "      <td>24</td>\n",
       "    </tr>\n",
       "  </tbody>\n",
       "</table>\n",
       "</div>"
      ],
      "text/plain": [
       "    A  B   C\n",
       "3  45  7  24"
      ]
     },
     "execution_count": 120,
     "metadata": {},
     "output_type": "execute_result"
    }
   ],
   "source": [
    "import pandas as pd\n",
    "import random as rd\n",
    "import numpy as np\n",
    "\n",
    "tabela = []\n",
    "for i in range(5):\n",
    "    tabela.append([])\n",
    "    for j in range(3):\n",
    "        tabela[i].append(rd.randint(1,50))\n",
    "df = pd.DataFrame(tabela, columns=['A', 'B', 'C'])\n",
    "df[(df['A'] > 10) & (df['B'] < 20)]\n"
   ]
  },
  {
   "attachments": {},
   "cell_type": "markdown",
   "metadata": {},
   "source": [
    "Dado um DataFrame chamado \"df\" com as colunas \"Name\" e \"Score\", encontre o nome do aluno com a maior pontuação."
   ]
  },
  {
   "cell_type": "code",
   "execution_count": 119,
   "metadata": {},
   "outputs": [
    {
     "data": {
      "text/plain": [
       "Name     Pedro\n",
       "Score     10.0\n",
       "dtype: object"
      ]
     },
     "execution_count": 119,
     "metadata": {},
     "output_type": "execute_result"
    }
   ],
   "source": [
    "arquivo = pd.read_csv('siagrad-nota-parcial.csv', sep=',')\n",
    "df2 = pd.DataFrame(arquivo)\n",
    "df2.sort_values(by='Score', ascending=False).head(1)['Name']\n",
    "df2.max()"
   ]
  },
  {
   "attachments": {},
   "cell_type": "markdown",
   "metadata": {},
   "source": [
    "Uma universidade possui 30 alunos na turma A e deseja criar um arquivo para essa turma chamado \"dadosAlunosA.csv\". Nesse arquivo, cada linha representa um aluno e as colunas representam as informações do aluno, isto é, nome, idade, gênero, nota em Python - básico e nota em Python - avançado. Escreva um código em Python utilizando dicionários e as bibliotecas pandas para:\n",
    "\n",
    "\n",
    "a) Criar o arquivo dadosAlunos.csv\n",
    "b) Calcular a média e o desvio padrão das notas em Python - básico e em Python - avançado de todos os alunos\n",
    "c) Calcular a média e o desvio padrão das notas em Python - básico e em Python - avançado separadamente para os alunos do gênero masculino e feminino\n",
    "d) Identificar e exibir os alunos que tiveram as melhoras notas em Python - básico e em Python - avançado\n",
    "e) Identificar e exibir os alunos que tiveram as piores notas em Python - básico e em Python - avançado \n",
    "f) Exibir se o aluno foi aprovado ou reprovado em Python - básico e em Python - avançado. Considere que a média é 7.0"
   ]
  },
  {
   "cell_type": "code",
   "execution_count": 138,
   "metadata": {},
   "outputs": [],
   "source": [
    "#A\n",
    "texto = 'nome,idade,genero,nota\\n\\\n",
    "Pedro,22,M,7.5\\n\\\n",
    "Maria,21,F,8\\n\\\n",
    "Lucas,30,M,10\\n\\\n",
    "Jose,18,M,4.3\\n\\\n",
    "Ana,19,F,5.5'\n",
    "\n",
    "with open('dadosAlunosA.csv', 'w') as dadosAlunos:\n",
    "    dadosAlunos.write(texto)"
   ]
  },
  {
   "cell_type": "code",
   "execution_count": 142,
   "metadata": {},
   "outputs": [
    {
     "data": {
      "text/plain": [
       "7.06"
      ]
     },
     "metadata": {},
     "output_type": "display_data"
    }
   ],
   "source": [
    "#B\n",
    "df3 = pd.read_csv('dadosAlunosA.csv')\n",
    "display(df3['nota'].mean())"
   ]
  },
  {
   "cell_type": "code",
   "execution_count": null,
   "metadata": {},
   "outputs": [],
   "source": [
    "#C\n",
    "display(df3(['genero'] == 'M') & (['nota'].mean))"
   ]
  }
 ],
 "metadata": {
  "kernelspec": {
   "display_name": "Python 3",
   "language": "python",
   "name": "python3"
  },
  "language_info": {
   "codemirror_mode": {
    "name": "ipython",
    "version": 3
   },
   "file_extension": ".py",
   "mimetype": "text/x-python",
   "name": "python",
   "nbconvert_exporter": "python",
   "pygments_lexer": "ipython3",
   "version": "3.11.0"
  },
  "orig_nbformat": 4
 },
 "nbformat": 4,
 "nbformat_minor": 2
}
