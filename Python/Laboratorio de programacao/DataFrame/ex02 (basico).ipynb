{
 "cells": [
  {
   "cell_type": "code",
   "execution_count": 7,
   "metadata": {},
   "outputs": [],
   "source": [
    "import pandas as pd\n",
    "import math\n",
    "nome = ['Joao', 'Jose', 'Antonio', 'Francisco', 'Carlos', 'Paulo', 'Pedro', 'Lucas', 'Luiz', 'Marcos',\n",
    "        'Luis', 'Marcos', 'Gabriel', 'Rafael', 'Daniel', 'Marcelo', 'Bruno', 'Eduardo', 'Felipe', 'Raimundo',\n",
    "        'Julia', 'Sofia', 'Rebeca', 'Raquel', 'Luana', 'Leticia', 'Alice', 'Giovana', 'Isabela', 'Ana']\n",
    "idade = [18, 29, 19, 53, 31, 54, 38, 21, 24, 27,\n",
    "         37, 29, 25, 35, 30, 18, 57, 33, 18, 23,\n",
    "         18, 50, 22, 52, 22, 33, 22, 25, 33, 40]\n",
    "genero = ['M', 'M', 'M', 'M', 'M', 'M', 'M', 'M', 'M', 'M',\n",
    "          'M', 'M', 'M', 'M', 'M', 'M', 'M', 'M', 'M', 'M',\n",
    "          'F', 'F', 'F', 'F', 'F', 'F', 'F', 'F', 'F', 'F',]\n",
    "nota = [2, 2, 0, 6, 10, 6, 7, 3, 10, 2,\n",
    "        5, 8, 8, 6, 5, 10, 1, 4, 4, 10,\n",
    "        1, 2, 3, 6, 0, 5, 6, 6, 9, 4]"
   ]
  },
  {
   "cell_type": "code",
   "execution_count": 3,
   "metadata": {},
   "outputs": [],
   "source": [
    "# A\n",
    "dadosAlunos = {'Nome':nome, 'Idade':idade, 'Genero':genero, 'Nota':nota}\n",
    "\n",
    "df = pd.DataFrame(dadosAlunos)\n",
    "df.to_csv('dadosAlunos.csv', index=False)\n",
    "df.loc('Nome')"
   ]
  },
  {
   "cell_type": "code",
   "execution_count": 15,
   "metadata": {},
   "outputs": [
    {
     "name": "stdout",
     "output_type": "stream",
     "text": [
      "5.033333333333333 3.0164364553043197\n"
     ]
    }
   ],
   "source": [
    "# B\n",
    "valores = []\n",
    "for i in df:\n",
    "    if i == 'Nota':\n",
    "        for j in df[i]:        \n",
    "            valores.append(j)\n",
    "soma = 0\n",
    "variancia = 0\n",
    "for i in range(len(valores)):\n",
    "    soma += valores[i]\n",
    "media = soma/len(valores)\n",
    "for i in range(len(valores)):\n",
    "    variancia += (valores[i]-media)**2\n",
    "desvPadrao = math.sqrt(variancia/len(valores))\n",
    "print(media, desvPadrao)"
   ]
  },
  {
   "cell_type": "code",
   "execution_count": null,
   "metadata": {},
   "outputs": [],
   "source": [
    "# C"
   ]
  },
  {
   "cell_type": "code",
   "execution_count": null,
   "metadata": {},
   "outputs": [],
   "source": [
    "# D\n",
    "maior = 0\n",
    "aluno = {'Nome', 'Nota'}\n",
    "for i in df:\n",
    "    if i == 'Nota':\n",
    "        for j in df[i]:\n",
    "            if j > maior:\n",
    "                maior = j\n"
   ]
  }
 ],
 "metadata": {
  "kernelspec": {
   "display_name": "Python 3",
   "language": "python",
   "name": "python3"
  },
  "language_info": {
   "codemirror_mode": {
    "name": "ipython",
    "version": 3
   },
   "file_extension": ".py",
   "mimetype": "text/x-python",
   "name": "python",
   "nbconvert_exporter": "python",
   "pygments_lexer": "ipython3",
   "version": "3.11.0"
  },
  "orig_nbformat": 4
 },
 "nbformat": 4,
 "nbformat_minor": 2
}
