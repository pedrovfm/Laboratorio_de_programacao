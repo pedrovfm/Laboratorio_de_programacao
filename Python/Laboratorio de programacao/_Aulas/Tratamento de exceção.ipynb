{
  "nbformat": 4,
  "nbformat_minor": 0,
  "metadata": {
    "colab": {
      "provenance": [],
      "collapsed_sections": [
        "VPG0o3mK8imM"
      ]
    },
    "kernelspec": {
      "name": "python3",
      "display_name": "Python 3"
    },
    "language_info": {
      "name": "python"
    }
  },
  "cells": [
    {
      "cell_type": "markdown",
      "source": [
        "**UNIT - Curso de Computação**\n",
        "\n",
        "**Laboratório de Programação**\n",
        "\n",
        "Profª. Ma. Layse Souza"
      ],
      "metadata": {
        "id": "3PHYPa2acAeO"
      }
    },
    {
      "cell_type": "markdown",
      "source": [
        "# Gabarito - Exercício DataFrame"
      ],
      "metadata": {
        "id": "VPG0o3mK8imM"
      }
    },
    {
      "cell_type": "markdown",
      "source": [
        "1) Criar um DataFrame com 2 linhas (índices 0 e 1) e 5 colunas ('Nome', 'Idade', 'Sexo', 'Peso', 'Altura'). As informações para colocar no DataFrame é de sua escolha.\n",
        "\n"
      ],
      "metadata": {
        "id": "9-aMbIVt8kGx"
      }
    },
    {
      "cell_type": "code",
      "source": [
        "import pandas as pd\n",
        "import numpy as np"
      ],
      "metadata": {
        "id": "9enZzrQG80yQ"
      },
      "execution_count": null,
      "outputs": []
    },
    {
      "cell_type": "code",
      "source": [
        "df = pd.DataFrame([['Ana', 21, 'F', 50, 1.57], ['José', 22, 'M', 58, 1.71]],\n",
        "                  index = range(0,2), columns = ['Nome', 'Idade', 'Sexo',\n",
        "                                                'Peso', 'Altura'])"
      ],
      "metadata": {
        "id": "sMf_a-idu8dk"
      },
      "execution_count": null,
      "outputs": []
    },
    {
      "cell_type": "code",
      "source": [
        "df"
      ],
      "metadata": {
        "colab": {
          "base_uri": "https://localhost:8080/"
        },
        "id": "sY3MyhkCwBsQ",
        "outputId": "92b243b8-e88c-4097-f5f9-1a1d04b0cd84"
      },
      "execution_count": null,
      "outputs": [
        {
          "output_type": "execute_result",
          "data": {
            "text/plain": [
              "   Nome  Idade Sexo  Peso  Altura\n",
              "0   Ana     21    F    50    1.57\n",
              "1  José     22    M    58    1.71"
            ],
            "text/html": [
              "\n",
              "  <div id=\"df-fa48c57a-f3e5-459f-af77-eb56427a8976\">\n",
              "    <div class=\"colab-df-container\">\n",
              "      <div>\n",
              "<style scoped>\n",
              "    .dataframe tbody tr th:only-of-type {\n",
              "        vertical-align: middle;\n",
              "    }\n",
              "\n",
              "    .dataframe tbody tr th {\n",
              "        vertical-align: top;\n",
              "    }\n",
              "\n",
              "    .dataframe thead th {\n",
              "        text-align: right;\n",
              "    }\n",
              "</style>\n",
              "<table border=\"1\" class=\"dataframe\">\n",
              "  <thead>\n",
              "    <tr style=\"text-align: right;\">\n",
              "      <th></th>\n",
              "      <th>Nome</th>\n",
              "      <th>Idade</th>\n",
              "      <th>Sexo</th>\n",
              "      <th>Peso</th>\n",
              "      <th>Altura</th>\n",
              "    </tr>\n",
              "  </thead>\n",
              "  <tbody>\n",
              "    <tr>\n",
              "      <th>0</th>\n",
              "      <td>Ana</td>\n",
              "      <td>21</td>\n",
              "      <td>F</td>\n",
              "      <td>50</td>\n",
              "      <td>1.57</td>\n",
              "    </tr>\n",
              "    <tr>\n",
              "      <th>1</th>\n",
              "      <td>José</td>\n",
              "      <td>22</td>\n",
              "      <td>M</td>\n",
              "      <td>58</td>\n",
              "      <td>1.71</td>\n",
              "    </tr>\n",
              "  </tbody>\n",
              "</table>\n",
              "</div>\n",
              "      <button class=\"colab-df-convert\" onclick=\"convertToInteractive('df-fa48c57a-f3e5-459f-af77-eb56427a8976')\"\n",
              "              title=\"Convert this dataframe to an interactive table.\"\n",
              "              style=\"display:none;\">\n",
              "        \n",
              "  <svg xmlns=\"http://www.w3.org/2000/svg\" height=\"24px\"viewBox=\"0 0 24 24\"\n",
              "       width=\"24px\">\n",
              "    <path d=\"M0 0h24v24H0V0z\" fill=\"none\"/>\n",
              "    <path d=\"M18.56 5.44l.94 2.06.94-2.06 2.06-.94-2.06-.94-.94-2.06-.94 2.06-2.06.94zm-11 1L8.5 8.5l.94-2.06 2.06-.94-2.06-.94L8.5 2.5l-.94 2.06-2.06.94zm10 10l.94 2.06.94-2.06 2.06-.94-2.06-.94-.94-2.06-.94 2.06-2.06.94z\"/><path d=\"M17.41 7.96l-1.37-1.37c-.4-.4-.92-.59-1.43-.59-.52 0-1.04.2-1.43.59L10.3 9.45l-7.72 7.72c-.78.78-.78 2.05 0 2.83L4 21.41c.39.39.9.59 1.41.59.51 0 1.02-.2 1.41-.59l7.78-7.78 2.81-2.81c.8-.78.8-2.07 0-2.86zM5.41 20L4 18.59l7.72-7.72 1.47 1.35L5.41 20z\"/>\n",
              "  </svg>\n",
              "      </button>\n",
              "      \n",
              "  <style>\n",
              "    .colab-df-container {\n",
              "      display:flex;\n",
              "      flex-wrap:wrap;\n",
              "      gap: 12px;\n",
              "    }\n",
              "\n",
              "    .colab-df-convert {\n",
              "      background-color: #E8F0FE;\n",
              "      border: none;\n",
              "      border-radius: 50%;\n",
              "      cursor: pointer;\n",
              "      display: none;\n",
              "      fill: #1967D2;\n",
              "      height: 32px;\n",
              "      padding: 0 0 0 0;\n",
              "      width: 32px;\n",
              "    }\n",
              "\n",
              "    .colab-df-convert:hover {\n",
              "      background-color: #E2EBFA;\n",
              "      box-shadow: 0px 1px 2px rgba(60, 64, 67, 0.3), 0px 1px 3px 1px rgba(60, 64, 67, 0.15);\n",
              "      fill: #174EA6;\n",
              "    }\n",
              "\n",
              "    [theme=dark] .colab-df-convert {\n",
              "      background-color: #3B4455;\n",
              "      fill: #D2E3FC;\n",
              "    }\n",
              "\n",
              "    [theme=dark] .colab-df-convert:hover {\n",
              "      background-color: #434B5C;\n",
              "      box-shadow: 0px 1px 3px 1px rgba(0, 0, 0, 0.15);\n",
              "      filter: drop-shadow(0px 1px 2px rgba(0, 0, 0, 0.3));\n",
              "      fill: #FFFFFF;\n",
              "    }\n",
              "  </style>\n",
              "\n",
              "      <script>\n",
              "        const buttonEl =\n",
              "          document.querySelector('#df-fa48c57a-f3e5-459f-af77-eb56427a8976 button.colab-df-convert');\n",
              "        buttonEl.style.display =\n",
              "          google.colab.kernel.accessAllowed ? 'block' : 'none';\n",
              "\n",
              "        async function convertToInteractive(key) {\n",
              "          const element = document.querySelector('#df-fa48c57a-f3e5-459f-af77-eb56427a8976');\n",
              "          const dataTable =\n",
              "            await google.colab.kernel.invokeFunction('convertToInteractive',\n",
              "                                                     [key], {});\n",
              "          if (!dataTable) return;\n",
              "\n",
              "          const docLinkHtml = 'Like what you see? Visit the ' +\n",
              "            '<a target=\"_blank\" href=https://colab.research.google.com/notebooks/data_table.ipynb>data table notebook</a>'\n",
              "            + ' to learn more about interactive tables.';\n",
              "          element.innerHTML = '';\n",
              "          dataTable['output_type'] = 'display_data';\n",
              "          await google.colab.output.renderOutput(dataTable, element);\n",
              "          const docLink = document.createElement('div');\n",
              "          docLink.innerHTML = docLinkHtml;\n",
              "          element.appendChild(docLink);\n",
              "        }\n",
              "      </script>\n",
              "    </div>\n",
              "  </div>\n",
              "  "
            ]
          },
          "metadata": {},
          "execution_count": 4
        }
      ]
    },
    {
      "cell_type": "markdown",
      "source": [
        "2) Criar um DataFrame utilizando uma matriz 3x3 que possui as seguintes colunas País, Capital e População. As informações para colocar no DataFrame é de sua escolha."
      ],
      "metadata": {
        "id": "SLT9khtw81IZ"
      }
    },
    {
      "cell_type": "code",
      "source": [
        "dadosPaises = np.array([['Portugal', 'Lisboa', 10000000],\n",
        "                        ['Peru', 'Lima', 32000000],\n",
        "                        ['Brasil', 'Brasilia', 203000000]])\n",
        "\n",
        "df = pd.DataFrame(dadosPaises, columns=['Pais', 'Capital', 'Populacao'])\n",
        "df"
      ],
      "metadata": {
        "id": "CbOFRR4d83dW",
        "colab": {
          "base_uri": "https://localhost:8080/"
        },
        "outputId": "95934af8-317f-4fca-8e0a-cbbb5c82a779"
      },
      "execution_count": null,
      "outputs": [
        {
          "output_type": "execute_result",
          "data": {
            "text/plain": [
              "       Pais   Capital  Populacao\n",
              "0  Portugal    Lisboa   10000000\n",
              "1      Peru      Lima   32000000\n",
              "2    Brasil  Brasilia  203000000"
            ],
            "text/html": [
              "\n",
              "  <div id=\"df-c17cd238-f642-44ed-9275-f478fe8978ce\">\n",
              "    <div class=\"colab-df-container\">\n",
              "      <div>\n",
              "<style scoped>\n",
              "    .dataframe tbody tr th:only-of-type {\n",
              "        vertical-align: middle;\n",
              "    }\n",
              "\n",
              "    .dataframe tbody tr th {\n",
              "        vertical-align: top;\n",
              "    }\n",
              "\n",
              "    .dataframe thead th {\n",
              "        text-align: right;\n",
              "    }\n",
              "</style>\n",
              "<table border=\"1\" class=\"dataframe\">\n",
              "  <thead>\n",
              "    <tr style=\"text-align: right;\">\n",
              "      <th></th>\n",
              "      <th>Pais</th>\n",
              "      <th>Capital</th>\n",
              "      <th>Populacao</th>\n",
              "    </tr>\n",
              "  </thead>\n",
              "  <tbody>\n",
              "    <tr>\n",
              "      <th>0</th>\n",
              "      <td>Portugal</td>\n",
              "      <td>Lisboa</td>\n",
              "      <td>10000000</td>\n",
              "    </tr>\n",
              "    <tr>\n",
              "      <th>1</th>\n",
              "      <td>Peru</td>\n",
              "      <td>Lima</td>\n",
              "      <td>32000000</td>\n",
              "    </tr>\n",
              "    <tr>\n",
              "      <th>2</th>\n",
              "      <td>Brasil</td>\n",
              "      <td>Brasilia</td>\n",
              "      <td>203000000</td>\n",
              "    </tr>\n",
              "  </tbody>\n",
              "</table>\n",
              "</div>\n",
              "      <button class=\"colab-df-convert\" onclick=\"convertToInteractive('df-c17cd238-f642-44ed-9275-f478fe8978ce')\"\n",
              "              title=\"Convert this dataframe to an interactive table.\"\n",
              "              style=\"display:none;\">\n",
              "        \n",
              "  <svg xmlns=\"http://www.w3.org/2000/svg\" height=\"24px\"viewBox=\"0 0 24 24\"\n",
              "       width=\"24px\">\n",
              "    <path d=\"M0 0h24v24H0V0z\" fill=\"none\"/>\n",
              "    <path d=\"M18.56 5.44l.94 2.06.94-2.06 2.06-.94-2.06-.94-.94-2.06-.94 2.06-2.06.94zm-11 1L8.5 8.5l.94-2.06 2.06-.94-2.06-.94L8.5 2.5l-.94 2.06-2.06.94zm10 10l.94 2.06.94-2.06 2.06-.94-2.06-.94-.94-2.06-.94 2.06-2.06.94z\"/><path d=\"M17.41 7.96l-1.37-1.37c-.4-.4-.92-.59-1.43-.59-.52 0-1.04.2-1.43.59L10.3 9.45l-7.72 7.72c-.78.78-.78 2.05 0 2.83L4 21.41c.39.39.9.59 1.41.59.51 0 1.02-.2 1.41-.59l7.78-7.78 2.81-2.81c.8-.78.8-2.07 0-2.86zM5.41 20L4 18.59l7.72-7.72 1.47 1.35L5.41 20z\"/>\n",
              "  </svg>\n",
              "      </button>\n",
              "      \n",
              "  <style>\n",
              "    .colab-df-container {\n",
              "      display:flex;\n",
              "      flex-wrap:wrap;\n",
              "      gap: 12px;\n",
              "    }\n",
              "\n",
              "    .colab-df-convert {\n",
              "      background-color: #E8F0FE;\n",
              "      border: none;\n",
              "      border-radius: 50%;\n",
              "      cursor: pointer;\n",
              "      display: none;\n",
              "      fill: #1967D2;\n",
              "      height: 32px;\n",
              "      padding: 0 0 0 0;\n",
              "      width: 32px;\n",
              "    }\n",
              "\n",
              "    .colab-df-convert:hover {\n",
              "      background-color: #E2EBFA;\n",
              "      box-shadow: 0px 1px 2px rgba(60, 64, 67, 0.3), 0px 1px 3px 1px rgba(60, 64, 67, 0.15);\n",
              "      fill: #174EA6;\n",
              "    }\n",
              "\n",
              "    [theme=dark] .colab-df-convert {\n",
              "      background-color: #3B4455;\n",
              "      fill: #D2E3FC;\n",
              "    }\n",
              "\n",
              "    [theme=dark] .colab-df-convert:hover {\n",
              "      background-color: #434B5C;\n",
              "      box-shadow: 0px 1px 3px 1px rgba(0, 0, 0, 0.15);\n",
              "      filter: drop-shadow(0px 1px 2px rgba(0, 0, 0, 0.3));\n",
              "      fill: #FFFFFF;\n",
              "    }\n",
              "  </style>\n",
              "\n",
              "      <script>\n",
              "        const buttonEl =\n",
              "          document.querySelector('#df-c17cd238-f642-44ed-9275-f478fe8978ce button.colab-df-convert');\n",
              "        buttonEl.style.display =\n",
              "          google.colab.kernel.accessAllowed ? 'block' : 'none';\n",
              "\n",
              "        async function convertToInteractive(key) {\n",
              "          const element = document.querySelector('#df-c17cd238-f642-44ed-9275-f478fe8978ce');\n",
              "          const dataTable =\n",
              "            await google.colab.kernel.invokeFunction('convertToInteractive',\n",
              "                                                     [key], {});\n",
              "          if (!dataTable) return;\n",
              "\n",
              "          const docLinkHtml = 'Like what you see? Visit the ' +\n",
              "            '<a target=\"_blank\" href=https://colab.research.google.com/notebooks/data_table.ipynb>data table notebook</a>'\n",
              "            + ' to learn more about interactive tables.';\n",
              "          element.innerHTML = '';\n",
              "          dataTable['output_type'] = 'display_data';\n",
              "          await google.colab.output.renderOutput(dataTable, element);\n",
              "          const docLink = document.createElement('div');\n",
              "          docLink.innerHTML = docLinkHtml;\n",
              "          element.appendChild(docLink);\n",
              "        }\n",
              "      </script>\n",
              "    </div>\n",
              "  </div>\n",
              "  "
            ]
          },
          "metadata": {},
          "execution_count": 5
        }
      ]
    },
    {
      "cell_type": "code",
      "source": [
        "dadosPaisesD = {\"Pais\":[\"Portugal\", \"Peru\", \"Brasil\"],\n",
        "               \"Capital\":[\"Lisboa\", \"Lima\", \"Brasilia\"],\n",
        "               \"Populacao\":[10000000, 32000000, 203000000]}\n",
        "\n",
        "dfD = pd.DataFrame(dadosPaisesD)\n",
        "dfD"
      ],
      "metadata": {
        "colab": {
          "base_uri": "https://localhost:8080/"
        },
        "id": "9TafAhtpxAtr",
        "outputId": "faf07f51-b2da-455c-8f5e-fb68482622b1"
      },
      "execution_count": null,
      "outputs": [
        {
          "output_type": "execute_result",
          "data": {
            "text/plain": [
              "       Pais   Capital  Populacao\n",
              "0  Portugal    Lisboa   10000000\n",
              "1      Peru      Lima   32000000\n",
              "2    Brasil  Brasilia  203000000"
            ],
            "text/html": [
              "\n",
              "  <div id=\"df-5e1a3e43-a5b0-40cf-a6c6-b825326068ae\">\n",
              "    <div class=\"colab-df-container\">\n",
              "      <div>\n",
              "<style scoped>\n",
              "    .dataframe tbody tr th:only-of-type {\n",
              "        vertical-align: middle;\n",
              "    }\n",
              "\n",
              "    .dataframe tbody tr th {\n",
              "        vertical-align: top;\n",
              "    }\n",
              "\n",
              "    .dataframe thead th {\n",
              "        text-align: right;\n",
              "    }\n",
              "</style>\n",
              "<table border=\"1\" class=\"dataframe\">\n",
              "  <thead>\n",
              "    <tr style=\"text-align: right;\">\n",
              "      <th></th>\n",
              "      <th>Pais</th>\n",
              "      <th>Capital</th>\n",
              "      <th>Populacao</th>\n",
              "    </tr>\n",
              "  </thead>\n",
              "  <tbody>\n",
              "    <tr>\n",
              "      <th>0</th>\n",
              "      <td>Portugal</td>\n",
              "      <td>Lisboa</td>\n",
              "      <td>10000000</td>\n",
              "    </tr>\n",
              "    <tr>\n",
              "      <th>1</th>\n",
              "      <td>Peru</td>\n",
              "      <td>Lima</td>\n",
              "      <td>32000000</td>\n",
              "    </tr>\n",
              "    <tr>\n",
              "      <th>2</th>\n",
              "      <td>Brasil</td>\n",
              "      <td>Brasilia</td>\n",
              "      <td>203000000</td>\n",
              "    </tr>\n",
              "  </tbody>\n",
              "</table>\n",
              "</div>\n",
              "      <button class=\"colab-df-convert\" onclick=\"convertToInteractive('df-5e1a3e43-a5b0-40cf-a6c6-b825326068ae')\"\n",
              "              title=\"Convert this dataframe to an interactive table.\"\n",
              "              style=\"display:none;\">\n",
              "        \n",
              "  <svg xmlns=\"http://www.w3.org/2000/svg\" height=\"24px\"viewBox=\"0 0 24 24\"\n",
              "       width=\"24px\">\n",
              "    <path d=\"M0 0h24v24H0V0z\" fill=\"none\"/>\n",
              "    <path d=\"M18.56 5.44l.94 2.06.94-2.06 2.06-.94-2.06-.94-.94-2.06-.94 2.06-2.06.94zm-11 1L8.5 8.5l.94-2.06 2.06-.94-2.06-.94L8.5 2.5l-.94 2.06-2.06.94zm10 10l.94 2.06.94-2.06 2.06-.94-2.06-.94-.94-2.06-.94 2.06-2.06.94z\"/><path d=\"M17.41 7.96l-1.37-1.37c-.4-.4-.92-.59-1.43-.59-.52 0-1.04.2-1.43.59L10.3 9.45l-7.72 7.72c-.78.78-.78 2.05 0 2.83L4 21.41c.39.39.9.59 1.41.59.51 0 1.02-.2 1.41-.59l7.78-7.78 2.81-2.81c.8-.78.8-2.07 0-2.86zM5.41 20L4 18.59l7.72-7.72 1.47 1.35L5.41 20z\"/>\n",
              "  </svg>\n",
              "      </button>\n",
              "      \n",
              "  <style>\n",
              "    .colab-df-container {\n",
              "      display:flex;\n",
              "      flex-wrap:wrap;\n",
              "      gap: 12px;\n",
              "    }\n",
              "\n",
              "    .colab-df-convert {\n",
              "      background-color: #E8F0FE;\n",
              "      border: none;\n",
              "      border-radius: 50%;\n",
              "      cursor: pointer;\n",
              "      display: none;\n",
              "      fill: #1967D2;\n",
              "      height: 32px;\n",
              "      padding: 0 0 0 0;\n",
              "      width: 32px;\n",
              "    }\n",
              "\n",
              "    .colab-df-convert:hover {\n",
              "      background-color: #E2EBFA;\n",
              "      box-shadow: 0px 1px 2px rgba(60, 64, 67, 0.3), 0px 1px 3px 1px rgba(60, 64, 67, 0.15);\n",
              "      fill: #174EA6;\n",
              "    }\n",
              "\n",
              "    [theme=dark] .colab-df-convert {\n",
              "      background-color: #3B4455;\n",
              "      fill: #D2E3FC;\n",
              "    }\n",
              "\n",
              "    [theme=dark] .colab-df-convert:hover {\n",
              "      background-color: #434B5C;\n",
              "      box-shadow: 0px 1px 3px 1px rgba(0, 0, 0, 0.15);\n",
              "      filter: drop-shadow(0px 1px 2px rgba(0, 0, 0, 0.3));\n",
              "      fill: #FFFFFF;\n",
              "    }\n",
              "  </style>\n",
              "\n",
              "      <script>\n",
              "        const buttonEl =\n",
              "          document.querySelector('#df-5e1a3e43-a5b0-40cf-a6c6-b825326068ae button.colab-df-convert');\n",
              "        buttonEl.style.display =\n",
              "          google.colab.kernel.accessAllowed ? 'block' : 'none';\n",
              "\n",
              "        async function convertToInteractive(key) {\n",
              "          const element = document.querySelector('#df-5e1a3e43-a5b0-40cf-a6c6-b825326068ae');\n",
              "          const dataTable =\n",
              "            await google.colab.kernel.invokeFunction('convertToInteractive',\n",
              "                                                     [key], {});\n",
              "          if (!dataTable) return;\n",
              "\n",
              "          const docLinkHtml = 'Like what you see? Visit the ' +\n",
              "            '<a target=\"_blank\" href=https://colab.research.google.com/notebooks/data_table.ipynb>data table notebook</a>'\n",
              "            + ' to learn more about interactive tables.';\n",
              "          element.innerHTML = '';\n",
              "          dataTable['output_type'] = 'display_data';\n",
              "          await google.colab.output.renderOutput(dataTable, element);\n",
              "          const docLink = document.createElement('div');\n",
              "          docLink.innerHTML = docLinkHtml;\n",
              "          element.appendChild(docLink);\n",
              "        }\n",
              "      </script>\n",
              "    </div>\n",
              "  </div>\n",
              "  "
            ]
          },
          "metadata": {},
          "execution_count": 6
        }
      ]
    },
    {
      "cell_type": "markdown",
      "source": [
        "3) Uma universidade possui 30 alunos na turma A e deseja criar um arquivo para essa turma chamado \"dadosAlunosA.csv\". Nesse arquivo, cada linha representa um aluno e as colunas representam as informações do aluno, isto é, nome, idade, gênero, nota em Python - básico e nota em Python - avançado. Escreva um código em Python utilizando dicionários e as bibliotecas pandas para:\n",
        "\n",
        "\n",
        "a) Criar o arquivo **dadosAlunosA.csv**\n",
        "\n",
        "b) Calcular a média e o desvio padrão das notas em Python - básico e em Python - avançado de todos os alunos\n",
        "\n",
        "c) Calcular a média e o desvio padrão das notas em Python - básico e em Python - avançado separadamente para os alunos do gênero masculino e feminino\n",
        "\n",
        "d) Identificar e exibir os alunos que tiveram as melhoras notas em Python - básico e em Python - avançado\n",
        "\n",
        "e) Identificar e exibir os alunos que tiveram as piores notas em Python - básico e em Python - avançado \n",
        "\n",
        "f) Exibir se o aluno foi aprovado ou reprovado em Python - básico e em Python - avançado. Considere que a média é 7.0"
      ],
      "metadata": {
        "id": "gR8_UUOF838V"
      }
    },
    {
      "cell_type": "code",
      "source": [
        "import pandas as pd\n",
        "import numpy as np"
      ],
      "metadata": {
        "id": "MiYJJ8Iw87ML"
      },
      "execution_count": null,
      "outputs": []
    },
    {
      "cell_type": "code",
      "source": [
        "# a\n",
        "\n",
        "dado_aluno1 = {'Nome':'Ana', 'Idade':20, 'Genero':'F', \n",
        "               'Nota_Python_Basico':8.5, 'Nota_Python_Avancado':7.8}\n",
        "dado_aluno2 = {'Nome':'Maria', 'Idade':21, 'Genero':'F', \n",
        "               'Nota_Python_Basico':7.5, 'Nota_Python_Avancado':6.8}\n",
        "dado_aluno3 = {'Nome':'Joao', 'Idade':22, 'Genero':'M', \n",
        "               'Nota_Python_Basico':5.5, 'Nota_Python_Avancado':4.8}\n",
        "dado_aluno4 = {'Nome':'Jose', 'Idade':23, 'Genero':'M', \n",
        "               'Nota_Python_Basico':9.5, 'Nota_Python_Avancado':3.8}\n",
        "\n",
        "dados_alunos = pd.DataFrame([dado_aluno1, dado_aluno2, dado_aluno3,\n",
        "                             dado_aluno4])\n",
        "\n",
        "dados_alunos.to_csv('/content/drive/MyDrive/2023.1/Laboratório de Programação (N02 - Terça 15:10 a 18:30)/Unidade II/Aula 08/dadosAlunosA.csv', index=False)"
      ],
      "metadata": {
        "id": "LdJD5hnfyrNj"
      },
      "execution_count": null,
      "outputs": []
    },
    {
      "cell_type": "code",
      "source": [
        "# b\n",
        "\n",
        "dados_alunos = pd.read_csv('/content/drive/MyDrive/2023.1/Laboratório de Programação (N02 - Terça 15:10 a 18:30)/Unidade II/Aula 08/dadosAlunosA.csv')\n",
        "\n",
        "media_basico = dados_alunos['Nota_Python_Basico'].mean()\n",
        "desvio_basico = dados_alunos['Nota_Python_Basico'].std()\n",
        "\n",
        "media_avancado = dados_alunos['Nota_Python_Avancado'].mean()\n",
        "desvio_avancado = dados_alunos['Nota_Python_Avancado'].std()\n",
        "\n",
        "print('Media em Python Basico -> ', media_basico)\n",
        "print('Desvio padrao em Python Basico -> ', desvio_basico)\n",
        "\n",
        "print('Media em Python Avancado -> ', media_avancado)\n",
        "print('Desvio padrao em Python Avancado -> ', desvio_avancado)"
      ],
      "metadata": {
        "colab": {
          "base_uri": "https://localhost:8080/"
        },
        "id": "36rS1mtE0rKO",
        "outputId": "f04f7e0f-4d91-4fb3-a586-9642fe5b5895"
      },
      "execution_count": null,
      "outputs": [
        {
          "output_type": "stream",
          "name": "stdout",
          "text": [
            "Media em Python Basico ->  7.75\n",
            "Desvio padrao em Python Basico ->  1.707825127659933\n",
            "Media em Python Avancado ->  5.8\n",
            "Desvio padrao em Python Avancado ->  1.8257418583505538\n"
          ]
        }
      ]
    },
    {
      "cell_type": "code",
      "source": [
        "# c - masculino\n",
        "\n",
        "media_basico_masculino = dados_alunos[dados_alunos['Genero'] == 'M']['Nota_Python_Basico'].mean()\n",
        "desvio_basico_masculino = dados_alunos[dados_alunos['Genero'] == 'M']['Nota_Python_Basico'].std()\n",
        "\n",
        "media_avancado_masculino = dados_alunos[dados_alunos['Genero'] == 'M']['Nota_Python_Avancado'].mean()\n",
        "desvio_avancado_masculino = dados_alunos[dados_alunos['Genero'] == 'M']['Nota_Python_Avancado'].std()\n",
        "\n",
        "print('---MASCULINO---')\n",
        "print(f'Media de Python Basico (masculino):{media_basico_masculino}')\n",
        "print(f'Desvio padrao de Python Basico (masculino):{desvio_basico_masculino}')\n",
        "print(f'Media de Python Avancado (masculino):{media_avancado_masculino}')\n",
        "print(f'Desvio padrao de Python Avancado (masculino):{desvio_avancado_masculino}')"
      ],
      "metadata": {
        "colab": {
          "base_uri": "https://localhost:8080/"
        },
        "id": "VuBoLB6s2F3u",
        "outputId": "5ddf16da-5289-4d96-e751-6a2c9541cf92"
      },
      "execution_count": null,
      "outputs": [
        {
          "output_type": "stream",
          "name": "stdout",
          "text": [
            "---MASCULINO---\n",
            "Media de Python Basico (masculino):7.5\n",
            "Desvio padrao de Python Basico (masculino):2.8284271247461903\n",
            "Media de Python Avancado (masculino):4.3\n",
            "Desvio padrao de Python Avancado (masculino):0.7071067811865476\n"
          ]
        }
      ]
    },
    {
      "cell_type": "code",
      "source": [
        "# c - feminino\n",
        "\n",
        "media_basico_feminino = dados_alunos[dados_alunos['Genero'] == 'F']['Nota_Python_Basico'].mean()\n",
        "desvio_basico_feminino = dados_alunos[dados_alunos['Genero'] == 'F']['Nota_Python_Basico'].std()\n",
        "\n",
        "media_avancado_feminino = dados_alunos[dados_alunos['Genero'] == 'F']['Nota_Python_Avancado'].mean()\n",
        "desvio_avancado_feminino = dados_alunos[dados_alunos['Genero'] == 'F']['Nota_Python_Avancado'].std()\n",
        "\n",
        "print('---FEMININO---')\n",
        "print(f'Media de Python Basico (feminino):{media_basico_feminino}')\n",
        "print(f'Desvio padrao de Python Basico (feminino):{desvio_basico_feminino}')\n",
        "print(f'Media de Python Avancado (feminino):{media_avancado_feminino}')\n",
        "print(f'Desvio padrao de Python Avancado (feminino):{desvio_avancado_feminino}')"
      ],
      "metadata": {
        "colab": {
          "base_uri": "https://localhost:8080/"
        },
        "id": "oFgP8n173lJr",
        "outputId": "6944a6b5-cb31-40c1-a796-489435d19ee8"
      },
      "execution_count": null,
      "outputs": [
        {
          "output_type": "stream",
          "name": "stdout",
          "text": [
            "---FEMININO---\n",
            "Media de Python Basico (feminino):8.0\n",
            "Desvio padrao de Python Basico (feminino):0.7071067811865476\n",
            "Media de Python Avancado (feminino):7.3\n",
            "Desvio padrao de Python Avancado (feminino):0.7071067811865476\n"
          ]
        }
      ]
    },
    {
      "cell_type": "code",
      "source": [
        "# d\n",
        "\n",
        "melhores_notas_basico = dados_alunos.sort_values('Nota_Python_Basico', ascending=False).head(2)\n",
        "melhores_notas_avancado = dados_alunos.sort_values('Nota_Python_Avancado', ascending=False).head(2)\n",
        "\n",
        "print('Melhores nota em Python basico: \\n ', melhores_notas_basico, '\\n')\n",
        "print('Melhores nota em Python avancado: \\n ', melhores_notas_avancado)"
      ],
      "metadata": {
        "colab": {
          "base_uri": "https://localhost:8080/"
        },
        "id": "KDmFHwH14DNU",
        "outputId": "327e5799-1941-4e1e-bc8d-5afd2a629d19"
      },
      "execution_count": null,
      "outputs": [
        {
          "output_type": "stream",
          "name": "stdout",
          "text": [
            "Melhores nota em Python basico: \n",
            "     Nome  Idade Genero  Nota_Python_Basico  Nota_Python_Avancado\n",
            "3  Jose     23      M                 9.5                   3.8\n",
            "0   Ana     20      F                 8.5                   7.8 \n",
            "\n",
            "Melhores nota em Python avancado: \n",
            "      Nome  Idade Genero  Nota_Python_Basico  Nota_Python_Avancado\n",
            "0    Ana     20      F                 8.5                   7.8\n",
            "1  Maria     21      F                 7.5                   6.8\n"
          ]
        }
      ]
    },
    {
      "cell_type": "code",
      "source": [
        "# e\n",
        "piores_notas_basico = dados_alunos.sort_values('Nota_Python_Basico', ascending=True).head(2)\n",
        "piores_notas_avancado = dados_alunos.sort_values('Nota_Python_Avancado', ascending=True).head(2)\n",
        "\n",
        "print('Piores nota em Python basico: \\n ', piores_notas_basico, '\\n')\n",
        "print('Piores nota em Python avancado: \\n ', piores_notas_avancado)"
      ],
      "metadata": {
        "colab": {
          "base_uri": "https://localhost:8080/"
        },
        "id": "MR-4ukGO6MWJ",
        "outputId": "42ebcbee-20b0-4eca-8e49-6ab77d8efbcb"
      },
      "execution_count": null,
      "outputs": [
        {
          "output_type": "stream",
          "name": "stdout",
          "text": [
            "Piores nota em Python basico: \n",
            "      Nome  Idade Genero  Nota_Python_Basico  Nota_Python_Avancado\n",
            "2   Joao     22      M                 5.5                   4.8\n",
            "1  Maria     21      F                 7.5                   6.8 \n",
            "\n",
            "Piores nota em Python avancado: \n",
            "     Nome  Idade Genero  Nota_Python_Basico  Nota_Python_Avancado\n",
            "3  Jose     23      M                 9.5                   3.8\n",
            "2  Joao     22      M                 5.5                   4.8\n"
          ]
        }
      ]
    },
    {
      "cell_type": "code",
      "source": [
        "# f\n",
        "\n",
        "def verificar_aprovacao(nota):\n",
        "  return 'Aprovado' if nota >= 7.0 else \"Reprovado\"\n",
        "\n",
        "dados_alunos['situacao_basico'] = dados_alunos['Nota_Python_Basico'].apply(lambda notaB : verificar_aprovacao(notaB))\n",
        "dados_alunos['situacao_avancado'] = dados_alunos['Nota_Python_Avancado'].apply(lambda notaA : verificar_aprovacao(notaA))\n",
        "\n",
        "print('Situacao em Python Basico:')\n",
        "print(dados_alunos[['Nome', 'situacao_basico']])\n",
        "print('\\n')\n",
        "print('Situacao em Python Avancado:')\n",
        "print(dados_alunos[['Nome', 'situacao_avancado']]) "
      ],
      "metadata": {
        "colab": {
          "base_uri": "https://localhost:8080/"
        },
        "id": "BAQKCuig6lsw",
        "outputId": "6176b0a6-64c3-4e42-e74b-713756048162"
      },
      "execution_count": null,
      "outputs": [
        {
          "output_type": "stream",
          "name": "stdout",
          "text": [
            "Situacao em Python Basico:\n",
            "    Nome situacao_basico\n",
            "0    Ana        Aprovado\n",
            "1  Maria        Aprovado\n",
            "2   Joao       Reprovado\n",
            "3   Jose        Aprovado\n",
            "\n",
            "\n",
            "Situacao em Python Avancado:\n",
            "    Nome situacao_avancado\n",
            "0    Ana          Aprovado\n",
            "1  Maria         Reprovado\n",
            "2   Joao         Reprovado\n",
            "3   Jose         Reprovado\n"
          ]
        }
      ]
    },
    {
      "cell_type": "code",
      "source": [
        "# f - outra forma\n",
        "\n",
        "dados_alunos['situacao_basico'] = np.where(dados_alunos['Nota_Python_Basico'] >= 7.0, 'Aprovado', 'Reprovado')\n",
        "dados_alunos['situacao_avancado'] = np.where(dados_alunos['Nota_Python_Avancado'] >= 7.0, 'Aprovado', 'Reprovado')\n",
        "\n",
        "print('Situacao Python Basico:')\n",
        "print(dados_alunos[['Nome', 'situacao_basico']])\n",
        "print(\"\\n\")\n",
        "print('Situacao Python Avancado:')\n",
        "print(dados_alunos[['Nome', 'situacao_avancado']])"
      ],
      "metadata": {
        "colab": {
          "base_uri": "https://localhost:8080/"
        },
        "id": "Otpq4OU29jqy",
        "outputId": "9bf36df9-3bf9-47fe-c435-23b080afbc55"
      },
      "execution_count": null,
      "outputs": [
        {
          "output_type": "stream",
          "name": "stdout",
          "text": [
            "Situacao Python Basico:\n",
            "    Nome situacao_basico\n",
            "0    Ana        Aprovado\n",
            "1  Maria        Aprovado\n",
            "2   Joao       Reprovado\n",
            "3   Jose        Aprovado\n",
            "\n",
            "\n",
            "Situacao Python Avancado:\n",
            "    Nome situacao_avancado\n",
            "0    Ana          Aprovado\n",
            "1  Maria         Reprovado\n",
            "2   Joao         Reprovado\n",
            "3   Jose         Reprovado\n"
          ]
        }
      ]
    },
    {
      "cell_type": "markdown",
      "source": [],
      "metadata": {
        "id": "iJ5Yx3ze-DnV"
      }
    },
    {
      "cell_type": "code",
      "source": [],
      "metadata": {
        "id": "Q_vK_2cG9txB"
      },
      "execution_count": null,
      "outputs": []
    },
    {
      "cell_type": "markdown",
      "source": [
        "# Exceções"
      ],
      "metadata": {
        "id": "uNJhs-rEcDJ_"
      }
    },
    {
      "cell_type": "code",
      "source": [
        "2 + 'a'"
      ],
      "metadata": {
        "colab": {
          "base_uri": "https://localhost:8080/",
          "height": 166
        },
        "id": "5mHNXBLEA5aK",
        "outputId": "9e7c41d4-1a60-49ce-c277-cf4705bd9c70"
      },
      "execution_count": null,
      "outputs": [
        {
          "output_type": "error",
          "ename": "TypeError",
          "evalue": "ignored",
          "traceback": [
            "\u001b[0;31m---------------------------------------------------------------------------\u001b[0m",
            "\u001b[0;31mTypeError\u001b[0m                                 Traceback (most recent call last)",
            "\u001b[0;32m<ipython-input-23-1bab65faeb88>\u001b[0m in \u001b[0;36m<cell line: 1>\u001b[0;34m()\u001b[0m\n\u001b[0;32m----> 1\u001b[0;31m \u001b[0;36m2\u001b[0m \u001b[0;34m+\u001b[0m \u001b[0;34m'a'\u001b[0m\u001b[0;34m\u001b[0m\u001b[0;34m\u001b[0m\u001b[0m\n\u001b[0m",
            "\u001b[0;31mTypeError\u001b[0m: unsupported operand type(s) for +: 'int' and 'str'"
          ]
        }
      ]
    },
    {
      "cell_type": "markdown",
      "source": [
        "**Erros**\n",
        "\n",
        "  * Cálculos incorretos\n",
        "  * Funções incorretas\n",
        "  * Falha no sistema de arquivos\n",
        "  * Entrada de dados inválida\n",
        "  * Entre outros\n",
        "    "
      ],
      "metadata": {
        "id": "zlz3I_6JcGfh"
      }
    },
    {
      "cell_type": "markdown",
      "source": [
        "**Exceções**\n",
        " * Geradas por diferentes tipos de erros que surgem durante a execução do código\n",
        " * Implicam no término da execução do código\n",
        "\n",
        " * Exemplos:\n",
        "    * Sintaxe incorreta\n",
        "    * Caracteres inválidos\n",
        "    * Valores fora da faixa (uint-8 para uint-64)\n",
        "    * Erros de hardware\n",
        "    * Erros na procura/abertura de um arquivo\n",
        "    * Falha na memória\n",
        "    * Entre outros\n",
        "       "
      ],
      "metadata": {
        "id": "Voq9GW-icJkz"
      }
    },
    {
      "cell_type": "markdown",
      "source": [
        "## Exceções e tipos de erros"
      ],
      "metadata": {
        "id": "jTkD_dw6drcg"
      }
    },
    {
      "cell_type": "markdown",
      "source": [
        "[Exceções Python](https://docs.python.org/3/library/exceptions.html)"
      ],
      "metadata": {
        "id": "RfxYnycekKIw"
      }
    },
    {
      "cell_type": "markdown",
      "source": [
        "**Runtime**\n",
        "\n",
        "  * Ocorrem quando algo de errado acontece durante a execução do programa.\n",
        "    * Exemplos:\n",
        "     * NameError\n",
        "     * TypeError\n",
        "     * KeyError\n",
        "     * AttributeError\n",
        "     * IndexError\n",
        "     * ValueError\n",
        "  "
      ],
      "metadata": {
        "id": "ms3kSr_XcbY8"
      }
    },
    {
      "cell_type": "markdown",
      "source": [
        "* **NameError** - Quando tentamos acessar uma variável que não existe"
      ],
      "metadata": {
        "id": "qMGFEvkHDJ3o"
      }
    },
    {
      "cell_type": "code",
      "source": [
        "print(x) "
      ],
      "metadata": {
        "id": "cMsfujlyNcGs",
        "colab": {
          "base_uri": "https://localhost:8080/",
          "height": 166
        },
        "outputId": "d8967208-efef-44ac-888d-0292523de42b"
      },
      "execution_count": null,
      "outputs": [
        {
          "output_type": "error",
          "ename": "NameError",
          "evalue": "ignored",
          "traceback": [
            "\u001b[0;31m---------------------------------------------------------------------------\u001b[0m",
            "\u001b[0;31mNameError\u001b[0m                                 Traceback (most recent call last)",
            "\u001b[0;32m<ipython-input-24-34849341413d>\u001b[0m in \u001b[0;36m<cell line: 1>\u001b[0;34m()\u001b[0m\n\u001b[0;32m----> 1\u001b[0;31m \u001b[0mprint\u001b[0m\u001b[0;34m(\u001b[0m\u001b[0mx\u001b[0m\u001b[0;34m)\u001b[0m\u001b[0;34m\u001b[0m\u001b[0;34m\u001b[0m\u001b[0m\n\u001b[0m",
            "\u001b[0;31mNameError\u001b[0m: name 'x' is not defined"
          ]
        }
      ]
    },
    {
      "cell_type": "markdown",
      "source": [
        "* **TypeError** - Quando tentamos usar um valor de forma inadequada (int - float ou float - int ou String - int ou int - String ou String - float ou float - String)"
      ],
      "metadata": {
        "id": "lQtkxXb_DVjh"
      }
    },
    {
      "cell_type": "code",
      "source": [
        "x = [1,2,3]\n",
        "print(x['x'])"
      ],
      "metadata": {
        "colab": {
          "base_uri": "https://localhost:8080/",
          "height": 183
        },
        "id": "Y6IWeLgjDsB5",
        "outputId": "aeba3ce0-f863-46b1-834e-bf4b769b34fc"
      },
      "execution_count": null,
      "outputs": [
        {
          "output_type": "error",
          "ename": "TypeError",
          "evalue": "ignored",
          "traceback": [
            "\u001b[0;31m---------------------------------------------------------------------------\u001b[0m",
            "\u001b[0;31mTypeError\u001b[0m                                 Traceback (most recent call last)",
            "\u001b[0;32m<ipython-input-26-41ad4ae3edfd>\u001b[0m in \u001b[0;36m<cell line: 2>\u001b[0;34m()\u001b[0m\n\u001b[1;32m      1\u001b[0m \u001b[0mx\u001b[0m \u001b[0;34m=\u001b[0m \u001b[0;34m[\u001b[0m\u001b[0;36m1\u001b[0m\u001b[0;34m,\u001b[0m\u001b[0;36m2\u001b[0m\u001b[0;34m,\u001b[0m\u001b[0;36m3\u001b[0m\u001b[0;34m]\u001b[0m\u001b[0;34m\u001b[0m\u001b[0;34m\u001b[0m\u001b[0m\n\u001b[0;32m----> 2\u001b[0;31m \u001b[0mprint\u001b[0m\u001b[0;34m(\u001b[0m\u001b[0mx\u001b[0m\u001b[0;34m[\u001b[0m\u001b[0;34m'x'\u001b[0m\u001b[0;34m]\u001b[0m\u001b[0;34m)\u001b[0m\u001b[0;34m\u001b[0m\u001b[0;34m\u001b[0m\u001b[0m\n\u001b[0m",
            "\u001b[0;31mTypeError\u001b[0m: list indices must be integers or slices, not str"
          ]
        }
      ]
    },
    {
      "cell_type": "markdown",
      "source": [
        "* **KeyError** - Quando tentamos acessar um elemento de um dicionário onde a chave não existe"
      ],
      "metadata": {
        "id": "NYvqFfv-EAwF"
      }
    },
    {
      "cell_type": "code",
      "source": [
        "x = {'nome':'A', 'idade':20}\n",
        "print(x['peso'])"
      ],
      "metadata": {
        "colab": {
          "base_uri": "https://localhost:8080/",
          "height": 183
        },
        "id": "X9XqyZc2EKUN",
        "outputId": "e10ab520-6bcc-4076-a118-ea042fdc7174"
      },
      "execution_count": null,
      "outputs": [
        {
          "output_type": "error",
          "ename": "KeyError",
          "evalue": "ignored",
          "traceback": [
            "\u001b[0;31m---------------------------------------------------------------------------\u001b[0m",
            "\u001b[0;31mKeyError\u001b[0m                                  Traceback (most recent call last)",
            "\u001b[0;32m<ipython-input-27-4faf1689d84f>\u001b[0m in \u001b[0;36m<cell line: 2>\u001b[0;34m()\u001b[0m\n\u001b[1;32m      1\u001b[0m \u001b[0mx\u001b[0m \u001b[0;34m=\u001b[0m \u001b[0;34m{\u001b[0m\u001b[0;34m'nome'\u001b[0m\u001b[0;34m:\u001b[0m\u001b[0;34m'A'\u001b[0m\u001b[0;34m,\u001b[0m \u001b[0;34m'idade'\u001b[0m\u001b[0;34m:\u001b[0m\u001b[0;36m20\u001b[0m\u001b[0;34m}\u001b[0m\u001b[0;34m\u001b[0m\u001b[0;34m\u001b[0m\u001b[0m\n\u001b[0;32m----> 2\u001b[0;31m \u001b[0mprint\u001b[0m\u001b[0;34m(\u001b[0m\u001b[0mx\u001b[0m\u001b[0;34m[\u001b[0m\u001b[0;34m'peso'\u001b[0m\u001b[0;34m]\u001b[0m\u001b[0;34m)\u001b[0m\u001b[0;34m\u001b[0m\u001b[0;34m\u001b[0m\u001b[0m\n\u001b[0m",
            "\u001b[0;31mKeyError\u001b[0m: 'peso'"
          ]
        }
      ]
    },
    {
      "cell_type": "markdown",
      "source": [
        "* **AttributeError** - Quando tentamos acessar um atributo ou uma função que não existe em um objeto"
      ],
      "metadata": {
        "id": "fd2PRXw7EZ9h"
      }
    },
    {
      "cell_type": "code",
      "source": [
        "x = [1,2,3]\n",
        "print(x.nome)"
      ],
      "metadata": {
        "colab": {
          "base_uri": "https://localhost:8080/",
          "height": 183
        },
        "id": "huP5JRATEsmD",
        "outputId": "fb9c39fe-c7a9-491f-8a6f-9ea4fd8fb70a"
      },
      "execution_count": null,
      "outputs": [
        {
          "output_type": "error",
          "ename": "AttributeError",
          "evalue": "ignored",
          "traceback": [
            "\u001b[0;31m---------------------------------------------------------------------------\u001b[0m",
            "\u001b[0;31mAttributeError\u001b[0m                            Traceback (most recent call last)",
            "\u001b[0;32m<ipython-input-28-f88dcd6e05e2>\u001b[0m in \u001b[0;36m<cell line: 2>\u001b[0;34m()\u001b[0m\n\u001b[1;32m      1\u001b[0m \u001b[0mx\u001b[0m \u001b[0;34m=\u001b[0m \u001b[0;34m[\u001b[0m\u001b[0;36m1\u001b[0m\u001b[0;34m,\u001b[0m\u001b[0;36m2\u001b[0m\u001b[0;34m,\u001b[0m\u001b[0;36m3\u001b[0m\u001b[0;34m]\u001b[0m\u001b[0;34m\u001b[0m\u001b[0;34m\u001b[0m\u001b[0m\n\u001b[0;32m----> 2\u001b[0;31m \u001b[0mprint\u001b[0m\u001b[0;34m(\u001b[0m\u001b[0mx\u001b[0m\u001b[0;34m.\u001b[0m\u001b[0mnome\u001b[0m\u001b[0;34m)\u001b[0m\u001b[0;34m\u001b[0m\u001b[0;34m\u001b[0m\u001b[0m\n\u001b[0m",
            "\u001b[0;31mAttributeError\u001b[0m: 'list' object has no attribute 'nome'"
          ]
        }
      ]
    },
    {
      "cell_type": "markdown",
      "source": [
        "* **IndexError** - Qunado tentamos acessar um elemento de uma sequência com um índice maior que o total de seus elementos menos um"
      ],
      "metadata": {
        "id": "6QTYCPonE6Sn"
      }
    },
    {
      "cell_type": "code",
      "source": [
        "y = (1,2,3)\n",
        "print(y[4])"
      ],
      "metadata": {
        "colab": {
          "base_uri": "https://localhost:8080/",
          "height": 183
        },
        "id": "UEvP0Jc5FM7N",
        "outputId": "ed9fd86a-1564-4c51-8990-8aa8248fbeeb"
      },
      "execution_count": null,
      "outputs": [
        {
          "output_type": "error",
          "ename": "IndexError",
          "evalue": "ignored",
          "traceback": [
            "\u001b[0;31m---------------------------------------------------------------------------\u001b[0m",
            "\u001b[0;31mIndexError\u001b[0m                                Traceback (most recent call last)",
            "\u001b[0;32m<ipython-input-29-2edf2a269f7a>\u001b[0m in \u001b[0;36m<cell line: 2>\u001b[0;34m()\u001b[0m\n\u001b[1;32m      1\u001b[0m \u001b[0my\u001b[0m \u001b[0;34m=\u001b[0m \u001b[0;34m(\u001b[0m\u001b[0;36m1\u001b[0m\u001b[0;34m,\u001b[0m\u001b[0;36m2\u001b[0m\u001b[0;34m,\u001b[0m\u001b[0;36m3\u001b[0m\u001b[0;34m)\u001b[0m\u001b[0;34m\u001b[0m\u001b[0;34m\u001b[0m\u001b[0m\n\u001b[0;32m----> 2\u001b[0;31m \u001b[0mprint\u001b[0m\u001b[0;34m(\u001b[0m\u001b[0my\u001b[0m\u001b[0;34m[\u001b[0m\u001b[0;36m4\u001b[0m\u001b[0;34m]\u001b[0m\u001b[0;34m)\u001b[0m\u001b[0;34m\u001b[0m\u001b[0;34m\u001b[0m\u001b[0m\n\u001b[0m",
            "\u001b[0;31mIndexError\u001b[0m: tuple index out of range"
          ]
        }
      ]
    },
    {
      "cell_type": "markdown",
      "source": [
        "* **ValueError** - Quando tentamos acessar um elemento que tem um tipo correto, mas um valor inadequado"
      ],
      "metadata": {
        "id": "UHcPU0ofFaLs"
      }
    },
    {
      "cell_type": "code",
      "source": [
        "x = [1,2,3,4]\n",
        "\n",
        "y, z, w = x\n",
        "\n",
        "print(y)\n",
        "print(z)\n",
        "print(w) "
      ],
      "metadata": {
        "colab": {
          "base_uri": "https://localhost:8080/",
          "height": 235
        },
        "id": "Rgn1bG-MFhyu",
        "outputId": "6c3229fa-7b47-402c-d57b-923a9d2a8eb3"
      },
      "execution_count": null,
      "outputs": [
        {
          "output_type": "error",
          "ename": "ValueError",
          "evalue": "ignored",
          "traceback": [
            "\u001b[0;31m---------------------------------------------------------------------------\u001b[0m",
            "\u001b[0;31mValueError\u001b[0m                                Traceback (most recent call last)",
            "\u001b[0;32m<ipython-input-31-147379c8b081>\u001b[0m in \u001b[0;36m<cell line: 3>\u001b[0;34m()\u001b[0m\n\u001b[1;32m      1\u001b[0m \u001b[0mx\u001b[0m \u001b[0;34m=\u001b[0m \u001b[0;34m[\u001b[0m\u001b[0;36m1\u001b[0m\u001b[0;34m,\u001b[0m\u001b[0;36m2\u001b[0m\u001b[0;34m,\u001b[0m\u001b[0;36m3\u001b[0m\u001b[0;34m,\u001b[0m\u001b[0;36m4\u001b[0m\u001b[0;34m]\u001b[0m\u001b[0;34m\u001b[0m\u001b[0;34m\u001b[0m\u001b[0m\n\u001b[1;32m      2\u001b[0m \u001b[0;34m\u001b[0m\u001b[0m\n\u001b[0;32m----> 3\u001b[0;31m \u001b[0my\u001b[0m\u001b[0;34m,\u001b[0m \u001b[0mz\u001b[0m\u001b[0;34m,\u001b[0m \u001b[0mw\u001b[0m \u001b[0;34m=\u001b[0m \u001b[0mx\u001b[0m\u001b[0;34m\u001b[0m\u001b[0;34m\u001b[0m\u001b[0m\n\u001b[0m\u001b[1;32m      4\u001b[0m \u001b[0;34m\u001b[0m\u001b[0m\n\u001b[1;32m      5\u001b[0m \u001b[0mprint\u001b[0m\u001b[0;34m(\u001b[0m\u001b[0my\u001b[0m\u001b[0;34m)\u001b[0m\u001b[0;34m\u001b[0m\u001b[0;34m\u001b[0m\u001b[0m\n",
            "\u001b[0;31mValueError\u001b[0m: too many values to unpack (expected 3)"
          ]
        }
      ]
    },
    {
      "cell_type": "markdown",
      "source": [
        "## Tratamento de Exceções"
      ],
      "metadata": {
        "id": "utz9_l43cVcb"
      }
    },
    {
      "cell_type": "markdown",
      "source": [
        "* Identificar e tratar uma exceção\n",
        "* Permite que o código continue executando\n",
        "* Favorece o desenvolvimento de sistemas tolerantes a falhas"
      ],
      "metadata": {
        "id": "r4C2Nsp9GHKw"
      }
    },
    {
      "cell_type": "markdown",
      "source": [
        "\n",
        "  * Estrutura:\n",
        "\n",
        "```\n",
        "try:\n",
        "  <código>\n",
        "except <exceção>:\n",
        "  <código de tratamento da exceção>\n",
        "else:\n",
        "  <código executado se nenhuma exceção for lançada>\n",
        "finally:\n",
        "  <código independente>\n",
        "```\n",
        "\n",
        "\n"
      ],
      "metadata": {
        "id": "uhWqm6L6cYUi"
      }
    },
    {
      "cell_type": "markdown",
      "source": [
        "* try -> executa o código que pode disparar uma exceção\n",
        "* except -> trata a exceção\n",
        "* else (opcional) -> trecho de código que precisa ser executado se nenhuma exceção for lançada\n",
        "* finally (opcional) -> trecho de código que é sempre executado, ou seja, esse trecho é independente de uma exceção "
      ],
      "metadata": {
        "id": "vffWEaZ9GXn3"
      }
    },
    {
      "cell_type": "markdown",
      "source": [
        "### Exemplo - Divisão por zero"
      ],
      "metadata": {
        "id": "PehOu0mAcWNq"
      }
    },
    {
      "cell_type": "code",
      "source": [
        "try:\n",
        "  x = int(input('Informe um numero: '))\n",
        "  y = int(input('Informe outro numero: '))\n",
        "  z = x / y\n",
        "  print('Divisao por zero -> ', z)\n",
        "except ZeroDivisionError:\n",
        "  print('Tente de novo')"
      ],
      "metadata": {
        "id": "Nm8qB9D1Ne0n",
        "colab": {
          "base_uri": "https://localhost:8080/"
        },
        "outputId": "961fe775-719f-496c-a9cb-710eaccb6784"
      },
      "execution_count": null,
      "outputs": [
        {
          "output_type": "stream",
          "name": "stdout",
          "text": [
            "Informe um numero: 9\n",
            "Informe outro numero: 0\n",
            "Tente de novo\n"
          ]
        }
      ]
    },
    {
      "cell_type": "code",
      "source": [
        "try:\n",
        "  x = int(input('Informe um numero: '))\n",
        "  y = int(input('Informe outro numero: '))\n",
        "  z = x / y\n",
        "  print('Divisao por zero -> ', z)\n",
        "except ZeroDivisionError:\n",
        "  print('Tente de novo')\n",
        "except TypeError:\n",
        "  print('Tente de novo')"
      ],
      "metadata": {
        "colab": {
          "base_uri": "https://localhost:8080/",
          "height": 270
        },
        "id": "qgAKP8PFHvJp",
        "outputId": "4d00ce96-d3d9-418d-b44d-dedf2976b90d"
      },
      "execution_count": null,
      "outputs": [
        {
          "name": "stdout",
          "output_type": "stream",
          "text": [
            "Informe um numero: 7\n",
            "Informe outro numero: a\n"
          ]
        },
        {
          "output_type": "error",
          "ename": "ValueError",
          "evalue": "ignored",
          "traceback": [
            "\u001b[0;31m---------------------------------------------------------------------------\u001b[0m",
            "\u001b[0;31mValueError\u001b[0m                                Traceback (most recent call last)",
            "\u001b[0;32m<ipython-input-33-7b35d9ccf1c0>\u001b[0m in \u001b[0;36m<cell line: 1>\u001b[0;34m()\u001b[0m\n\u001b[1;32m      1\u001b[0m \u001b[0;32mtry\u001b[0m\u001b[0;34m:\u001b[0m\u001b[0;34m\u001b[0m\u001b[0;34m\u001b[0m\u001b[0m\n\u001b[1;32m      2\u001b[0m   \u001b[0mx\u001b[0m \u001b[0;34m=\u001b[0m \u001b[0mint\u001b[0m\u001b[0;34m(\u001b[0m\u001b[0minput\u001b[0m\u001b[0;34m(\u001b[0m\u001b[0;34m'Informe um numero: '\u001b[0m\u001b[0;34m)\u001b[0m\u001b[0;34m)\u001b[0m\u001b[0;34m\u001b[0m\u001b[0;34m\u001b[0m\u001b[0m\n\u001b[0;32m----> 3\u001b[0;31m   \u001b[0my\u001b[0m \u001b[0;34m=\u001b[0m \u001b[0mint\u001b[0m\u001b[0;34m(\u001b[0m\u001b[0minput\u001b[0m\u001b[0;34m(\u001b[0m\u001b[0;34m'Informe outro numero: '\u001b[0m\u001b[0;34m)\u001b[0m\u001b[0;34m)\u001b[0m\u001b[0;34m\u001b[0m\u001b[0;34m\u001b[0m\u001b[0m\n\u001b[0m\u001b[1;32m      4\u001b[0m   \u001b[0mz\u001b[0m \u001b[0;34m=\u001b[0m \u001b[0mx\u001b[0m \u001b[0;34m/\u001b[0m \u001b[0my\u001b[0m\u001b[0;34m\u001b[0m\u001b[0;34m\u001b[0m\u001b[0m\n\u001b[1;32m      5\u001b[0m   \u001b[0mprint\u001b[0m\u001b[0;34m(\u001b[0m\u001b[0;34m'Divisao por zero -> '\u001b[0m\u001b[0;34m,\u001b[0m \u001b[0mz\u001b[0m\u001b[0;34m)\u001b[0m\u001b[0;34m\u001b[0m\u001b[0;34m\u001b[0m\u001b[0m\n",
            "\u001b[0;31mValueError\u001b[0m: invalid literal for int() with base 10: 'a'"
          ]
        }
      ]
    },
    {
      "cell_type": "code",
      "source": [
        "try:\n",
        "  x = int(input('Informe um numero: '))\n",
        "  y = int(input('Informe outro numero: '))\n",
        "  z = x / y\n",
        "  print('Divisao por zero -> ', z)\n",
        "except ZeroDivisionError:\n",
        "  print('Tente de novo')\n",
        "except (TypeError, ValueError):\n",
        "  print('Tente de novo')"
      ],
      "metadata": {
        "colab": {
          "base_uri": "https://localhost:8080/"
        },
        "id": "y4ZJr7e7IDgs",
        "outputId": "5a86f04e-4323-4849-9373-28dc9f96d7de"
      },
      "execution_count": null,
      "outputs": [
        {
          "output_type": "stream",
          "name": "stdout",
          "text": [
            "Informe um numero: 1.5\n",
            "Tente de novo\n"
          ]
        }
      ]
    },
    {
      "cell_type": "code",
      "source": [
        "def divisao(x,y):\n",
        "  try:\n",
        "    resultado = x/y\n",
        "    # print(resultado)\n",
        "  except (ZeroDivisionError, TypeError):\n",
        "    print('Tente novamente')\n",
        "  else:\n",
        "    print('Resultado = ', resultado)\n",
        "  finally:\n",
        "    print('Executando...')"
      ],
      "metadata": {
        "id": "ILq81t8TIXHD"
      },
      "execution_count": null,
      "outputs": []
    },
    {
      "cell_type": "code",
      "source": [
        "divisao(10,10)"
      ],
      "metadata": {
        "colab": {
          "base_uri": "https://localhost:8080/"
        },
        "id": "ofZXlElFIykb",
        "outputId": "04f9a8b7-4267-4bcb-c3cf-7b690385e0a4"
      },
      "execution_count": null,
      "outputs": [
        {
          "output_type": "stream",
          "name": "stdout",
          "text": [
            "Resultado =  1.0\n",
            "Executando...\n"
          ]
        }
      ]
    },
    {
      "cell_type": "code",
      "source": [
        "divisao(5,0)"
      ],
      "metadata": {
        "colab": {
          "base_uri": "https://localhost:8080/"
        },
        "id": "xYJxiIovI5Xr",
        "outputId": "506ea8ad-fecf-4792-e754-92df593949fe"
      },
      "execution_count": null,
      "outputs": [
        {
          "output_type": "stream",
          "name": "stdout",
          "text": [
            "Tente novamente\n",
            "Executando...\n"
          ]
        }
      ]
    },
    {
      "cell_type": "code",
      "source": [
        "divisao(7, 'a')"
      ],
      "metadata": {
        "colab": {
          "base_uri": "https://localhost:8080/"
        },
        "id": "E4oqdzkPI9Zj",
        "outputId": "44a33d70-e1bd-4ece-ba2f-281470e85bf0"
      },
      "execution_count": null,
      "outputs": [
        {
          "output_type": "stream",
          "name": "stdout",
          "text": [
            "Tente novamente\n",
            "Executando...\n"
          ]
        }
      ]
    },
    {
      "cell_type": "code",
      "source": [
        "divisao(3,3.5)"
      ],
      "metadata": {
        "colab": {
          "base_uri": "https://localhost:8080/"
        },
        "id": "QOJBLFHBJLoI",
        "outputId": "31cb41b2-67bc-4cb8-a6f1-4f6991f5f5bb"
      },
      "execution_count": null,
      "outputs": [
        {
          "output_type": "stream",
          "name": "stdout",
          "text": [
            "0.8571428571428571\n",
            "Resultado =  0.8571428571428571\n",
            "Executando...\n"
          ]
        }
      ]
    },
    {
      "cell_type": "code",
      "source": [
        "divisao('a', 'b')"
      ],
      "metadata": {
        "colab": {
          "base_uri": "https://localhost:8080/"
        },
        "id": "cdy8R9LgJWKe",
        "outputId": "91e0e8dc-e9bd-4d7a-9c79-8effa556ac4e"
      },
      "execution_count": null,
      "outputs": [
        {
          "output_type": "stream",
          "name": "stdout",
          "text": [
            "Tente novamente\n",
            "Executando...\n"
          ]
        }
      ]
    }
  ]
}